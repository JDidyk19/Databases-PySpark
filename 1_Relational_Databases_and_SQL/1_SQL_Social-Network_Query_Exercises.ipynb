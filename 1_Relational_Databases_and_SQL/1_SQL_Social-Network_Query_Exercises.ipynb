{
 "cells": [
  {
   "cell_type": "code",
   "execution_count": 1,
   "id": "368fc83e-4433-4d45-887a-a2e686594483",
   "metadata": {},
   "outputs": [],
   "source": [
    "from pyspark.sql import SparkSession\n",
    "import pyspark.sql.types as T \n",
    "import pyspark.sql.functions as F\n",
    "\n",
    "\n",
    "spark = SparkSession \\\n",
    "    .builder \\\n",
    "    .appName(\"Exercise Solutions\") \\\n",
    "    .getOrCreate()"
   ]
  },
  {
   "cell_type": "markdown",
   "id": "935e8955-62d1-4f40-b0ad-c632a60a45e4",
   "metadata": {},
   "source": [
    "# SQL Social-Network Query Exercises"
   ]
  },
  {
   "cell_type": "markdown",
   "id": "92e1e816-9c39-4958-abed-16cc2fa5bd82",
   "metadata": {},
   "source": [
    "Students at your hometown high school have decided to organize their social network using databases. So far, they have collected information about sixteen students in four grades, 9-12. \n",
    "\n",
    "Here's the schema:\n",
    "\n",
    "Highschooler ( ID, name, grade )\n",
    "English: There is a high school student with unique *ID* and a given *first name* in a certain *grade*.\n",
    "\n",
    "Friend ( ID1, ID2 )\n",
    "English: The student with *ID1* is friends with the student with *ID2*. Friendship is mutual, so if (123, 456) is in the Friend table, so is (456, 123).\n",
    "\n",
    "Likes ( ID1, ID2 )\n",
    "English: The student with *ID1* likes the student with *ID2*. Liking someone is not necessarily mutual, so if (123, 456) is in the Likes table, there is no guarantee that (456, 123) is also present."
   ]
  },
  {
   "cell_type": "markdown",
   "id": "2b5de828-c7e7-449b-a172-78443f7d8a10",
   "metadata": {},
   "source": [
    "### Highschooler"
   ]
  },
  {
   "cell_type": "code",
   "execution_count": 2,
   "id": "df955d78-fa31-499e-a3b8-a591365b3582",
   "metadata": {},
   "outputs": [
    {
     "name": "stdout",
     "output_type": "stream",
     "text": [
      "+----+---------+-----+\n",
      "|id  |name     |grade|\n",
      "+----+---------+-----+\n",
      "|1510|Jordan   |9    |\n",
      "|1689|Gabriel  |9    |\n",
      "|1381|Tiffany  |9    |\n",
      "|1709|Cassandra|9    |\n",
      "|1101|Haley    |10   |\n",
      "|1782|Andrew   |10   |\n",
      "|1468|Kris     |10   |\n",
      "|1641|Brittany |10   |\n",
      "|1247|Alexis   |11   |\n",
      "|1316|Austin   |11   |\n",
      "|1911|Gabriel  |11   |\n",
      "|1501|Jessica  |11   |\n",
      "|1304|Jordan   |12   |\n",
      "|1025|John     |12   |\n",
      "|1934|Kyle     |12   |\n",
      "|1661|Logan    |12   |\n",
      "+----+---------+-----+\n",
      "\n"
     ]
    }
   ],
   "source": [
    "highschooler_df = spark.read.csv('./data/social/highschooler.csv', header=True)\n",
    "highschooler_df.show(truncate=False)"
   ]
  },
  {
   "cell_type": "markdown",
   "id": "520a9c49-6bf1-41ce-9ec5-1447d6c2bb95",
   "metadata": {},
   "source": [
    "### Friend"
   ]
  },
  {
   "cell_type": "code",
   "execution_count": 3,
   "id": "f0972786-40e4-4a9a-bfef-ddc1e5beff37",
   "metadata": {},
   "outputs": [
    {
     "name": "stdout",
     "output_type": "stream",
     "text": [
      "+----+----+\n",
      "|id1 |id2 |\n",
      "+----+----+\n",
      "|1510|1381|\n",
      "|1510|1689|\n",
      "|1689|1709|\n",
      "|1381|1247|\n",
      "|1709|1247|\n",
      "|1689|1782|\n",
      "|1782|1468|\n",
      "|1782|1316|\n",
      "|1782|1304|\n",
      "|1468|1101|\n",
      "|1468|1641|\n",
      "|1101|1641|\n",
      "|1247|1911|\n",
      "|1247|1501|\n",
      "|1911|1501|\n",
      "|1501|1934|\n",
      "|1316|1934|\n",
      "|1934|1304|\n",
      "|1304|1661|\n",
      "|1661|1025|\n",
      "+----+----+\n",
      "only showing top 20 rows\n",
      "\n"
     ]
    }
   ],
   "source": [
    "friend_df = spark.read.csv('./data/social/friend.csv', header=True)\n",
    "friend_df.show(truncate=False)"
   ]
  },
  {
   "cell_type": "markdown",
   "id": "73ebc59f-e648-482e-9ecd-6bfdf4e190e5",
   "metadata": {},
   "source": [
    "### Likes"
   ]
  },
  {
   "cell_type": "code",
   "execution_count": 4,
   "id": "92fadf87-6039-4312-9b5f-26481b8fc3a1",
   "metadata": {},
   "outputs": [
    {
     "name": "stdout",
     "output_type": "stream",
     "text": [
      "+----+----+\n",
      "|id1 |id2 |\n",
      "+----+----+\n",
      "|1689|1709|\n",
      "|1709|1689|\n",
      "|1782|1709|\n",
      "|1911|1247|\n",
      "|1247|1468|\n",
      "|1641|1468|\n",
      "|1316|1304|\n",
      "|1501|1934|\n",
      "|1934|1501|\n",
      "|1025|1101|\n",
      "+----+----+\n",
      "\n"
     ]
    }
   ],
   "source": [
    "likes_df = spark.read.csv('./data/social/likes.csv', header=True)\n",
    "likes_df.show(truncate=False)"
   ]
  },
  {
   "cell_type": "markdown",
   "id": "aee5e5e2-b3fe-4038-9fc4-627f79d5b730",
   "metadata": {},
   "source": [
    "## Q1\n",
    "Find the names of all students who are friends with someone named Gabriel."
   ]
  },
  {
   "cell_type": "code",
   "execution_count": 5,
   "id": "612ee9e2-1f0b-49eb-8b78-e9b206d98113",
   "metadata": {},
   "outputs": [
    {
     "name": "stdout",
     "output_type": "stream",
     "text": [
      "+---------+\n",
      "|name     |\n",
      "+---------+\n",
      "|Jordan   |\n",
      "|Alexis   |\n",
      "|Cassandra|\n",
      "|Andrew   |\n",
      "|Jessica  |\n",
      "+---------+\n",
      "\n"
     ]
    }
   ],
   "source": [
    "h2 = highschooler_df.alias('h2')\n",
    "\n",
    "highschooler_df \\\n",
    "    .alias('h1') \\\n",
    "    .join(friend_df, highschooler_df.id == friend_df.id1) \\\n",
    "    .join(h2, friend_df.id2 == h2.id) \\\n",
    "    .where(F.col('h2.name') == 'Gabriel') \\\n",
    "    .select('h1.name') \\\n",
    "    .show(truncate=False)"
   ]
  },
  {
   "cell_type": "markdown",
   "id": "e1171416-588d-4b8b-8155-4153497d7e0d",
   "metadata": {},
   "source": [
    "## Q2\n",
    "For every student who likes someone 2 or more grades younger than themselves, return that student's name and grade, and the name and grade of the student they like."
   ]
  },
  {
   "cell_type": "code",
   "execution_count": 6,
   "id": "4df488f0-4d0b-4888-8bd1-b1a32d874fd7",
   "metadata": {},
   "outputs": [
    {
     "name": "stdout",
     "output_type": "stream",
     "text": [
      "+----+-----+-----+-----+\n",
      "|name|grade|name |grade|\n",
      "+----+-----+-----+-----+\n",
      "|John|12   |Haley|10   |\n",
      "+----+-----+-----+-----+\n",
      "\n"
     ]
    }
   ],
   "source": [
    "h2 = highschooler_df.alias('h2')\n",
    "\n",
    "highschooler_df \\\n",
    "    .alias('h1') \\\n",
    "    .join(likes_df, highschooler_df.id == likes_df.id1) \\\n",
    "    .join(h2, likes_df.id2 == h2.id) \\\n",
    "    .where(F.col('h1.grade') - F.col('h2.grade') >= 2) \\\n",
    "    .select('h1.name', 'h1.grade', 'h2.name', 'h2.grade') \\\n",
    "    .show(truncate=False)"
   ]
  },
  {
   "cell_type": "markdown",
   "id": "58db7323-6dc5-44a0-9142-1c739c81627d",
   "metadata": {},
   "source": [
    "## Q3\n",
    "For every pair of students who both like each other, return the name and grade of both students. Include each pair only once, with the two names in alphabetical order."
   ]
  },
  {
   "cell_type": "code",
   "execution_count": 7,
   "id": "27734736-9b11-40a9-8941-f61919f41eef",
   "metadata": {},
   "outputs": [
    {
     "name": "stdout",
     "output_type": "stream",
     "text": [
      "+---------+-------+\n",
      "|name     |name   |\n",
      "+---------+-------+\n",
      "|Cassandra|Gabriel|\n",
      "|Jessica  |Kyle   |\n",
      "+---------+-------+\n",
      "\n"
     ]
    }
   ],
   "source": [
    "h2 = highschooler_df.alias('h2')\n",
    "l2 = likes_df.alias('l2')\n",
    "\n",
    "highschooler_df \\\n",
    "    .join(likes_df, highschooler_df.id == likes_df.id1) \\\n",
    "    .alias('h1') \\\n",
    "    .join(l2, F.col('h1.id2') == l2.id1) \\\n",
    "    .join(h2, F.col('l2.id1') == h2.id) \\\n",
    "    .where((F.col('h1.id') == F.col('l2.id2')) & (F.col('h1.name') < F.col('h2.name'))) \\\n",
    "    .select('h1.name', 'h2.name') \\\n",
    "    .show(truncate=False)"
   ]
  },
  {
   "cell_type": "markdown",
   "id": "3f915829-c0f2-4cfc-8f16-3787c5c19f32",
   "metadata": {},
   "source": [
    "## Q4\n",
    "Find all students who do not appear in the Likes table (as a student who likes or is liked) and return their names and grades. Sort by grade, then by name within each grade."
   ]
  },
  {
   "cell_type": "code",
   "execution_count": 8,
   "id": "9cfeb950-9d0c-45e0-a2ff-9a27aefac97c",
   "metadata": {},
   "outputs": [
    {
     "name": "stdout",
     "output_type": "stream",
     "text": [
      "+-------+-----+\n",
      "|name   |grade|\n",
      "+-------+-----+\n",
      "|Tiffany|9    |\n",
      "|Jordan |9    |\n",
      "|Logan  |12   |\n",
      "+-------+-----+\n",
      "\n"
     ]
    }
   ],
   "source": [
    "l2 = likes_df.alias('l2')\n",
    "\n",
    "highschooler_df \\\n",
    "    .join(likes_df.alias('l1'), highschooler_df.id == likes_df.id1, 'full') \\\n",
    "    .join(l2, highschooler_df.id == l2.id2, 'full') \\\n",
    "    .where((F.col('l1.id1').isNull()) & (F.col('l2.id2').isNull())) \\\n",
    "    .select('name', 'grade') \\\n",
    "    .show(truncate=False)"
   ]
  },
  {
   "cell_type": "markdown",
   "id": "fe5bf9fd-39ea-4950-b0b5-1cfe191da8ac",
   "metadata": {},
   "source": [
    "## Q5\n",
    "For every situation where student A likes student B, but we have no information about whom B likes (that is, B does not appear as an ID1 in the Likes table), return A and B's names and grades."
   ]
  },
  {
   "cell_type": "code",
   "execution_count": 9,
   "id": "a0ec5992-3f53-4f0a-94b6-d5d41342533c",
   "metadata": {},
   "outputs": [
    {
     "name": "stdout",
     "output_type": "stream",
     "text": [
      "+--------+-----+------+-----+\n",
      "|name    |grade|name  |grade|\n",
      "+--------+-----+------+-----+\n",
      "|Brittany|10   |Kris  |10   |\n",
      "|Alexis  |11   |Kris  |10   |\n",
      "|Austin  |11   |Jordan|12   |\n",
      "|John    |12   |Haley |10   |\n",
      "+--------+-----+------+-----+\n",
      "\n"
     ]
    }
   ],
   "source": [
    "h2 = highschooler_df.alias('h2')\n",
    "\n",
    "highschooler_df \\\n",
    "    .alias('h1') \\\n",
    "    .join(likes_df, highschooler_df.id == likes_df.id1) \\\n",
    "    .join(h2, likes_df.id2 == h2.id) \\\n",
    "    .where(~F.col('h2.id').isin([row['id1'] for row in likes_df.collect()])) \\\n",
    "    .select('h1.name', 'h1.grade', 'h2.name', 'h2.grade') \\\n",
    "    .show(truncate=False)"
   ]
  },
  {
   "cell_type": "markdown",
   "id": "10635e13-528f-40eb-ac89-2394c13a1eb8",
   "metadata": {},
   "source": [
    "## Q6\n",
    "Find names and grades of students who only have friends in the same grade. Return the result sorted by grade, then by name within each grade."
   ]
  },
  {
   "cell_type": "code",
   "execution_count": 10,
   "id": "144d1755-79e3-4e70-8fe3-962e4303c96a",
   "metadata": {},
   "outputs": [
    {
     "name": "stdout",
     "output_type": "stream",
     "text": [
      "+----+--------+-----+\n",
      "|id  |name    |grade|\n",
      "+----+--------+-----+\n",
      "|1510|Jordan  |9    |\n",
      "|1025|John    |12   |\n",
      "|1661|Logan   |12   |\n",
      "|1911|Gabriel |11   |\n",
      "|1641|Brittany|10   |\n",
      "|1101|Haley   |10   |\n",
      "|1468|Kris    |10   |\n",
      "+----+--------+-----+\n",
      "\n"
     ]
    }
   ],
   "source": [
    "h2 = highschooler_df.alias('h2')\n",
    "id_s = highschooler_df \\\n",
    "            .alias('h1') \\\n",
    "            .join(friend_df, highschooler_df.id == friend_df.id1) \\\n",
    "            .join(h2, friend_df.id2 == h2.id) \\\n",
    "            .where(F.col('h1.grade') != F.col('h2.grade')) \\\n",
    "            .collect()\n",
    "            \n",
    "highschooler_df \\\n",
    "    .where(~F.col('id').isin([row['id'] for row in id_s])) \\\n",
    "    .orderBy(F.col('grade').desc(), 'name') \\\n",
    "    .show(truncate=False)"
   ]
  },
  {
   "cell_type": "markdown",
   "id": "7ce719ac-6686-4502-9d20-3277e9f420ea",
   "metadata": {},
   "source": [
    "## Q7\n",
    "For each student A who likes a student B where the two are not friends, find if they have a friend C in common (who can introduce them!). For all such trios, return the name and grade of A, B, and C."
   ]
  },
  {
   "cell_type": "code",
   "execution_count": null,
   "id": "fb52edc5-315a-4e79-907c-292c948e4a6f",
   "metadata": {},
   "outputs": [],
   "source": []
  },
  {
   "cell_type": "markdown",
   "id": "6a06f1f9-1306-454a-a859-4ff5d5e4fc29",
   "metadata": {},
   "source": [
    "## Q8\n",
    "Find the difference between the number of students in the school and the number of different first names."
   ]
  },
  {
   "cell_type": "code",
   "execution_count": 11,
   "id": "773a2908-06ec-4649-b424-f9c74463c9c3",
   "metadata": {},
   "outputs": [
    {
     "data": {
      "text/plain": [
       "2"
      ]
     },
     "execution_count": 11,
     "metadata": {},
     "output_type": "execute_result"
    }
   ],
   "source": [
    "highschooler_df \\\n",
    "    .count() - highschooler_df \\\n",
    "                    .select('name') \\\n",
    "                    .distinct() \\\n",
    "                    .count()"
   ]
  },
  {
   "cell_type": "markdown",
   "id": "04ce3229-cf99-45b4-a315-f75387aca898",
   "metadata": {
    "tags": []
   },
   "source": [
    "## Q9\n",
    "Find the name and grade of all students who are liked by more than one other student."
   ]
  },
  {
   "cell_type": "code",
   "execution_count": 12,
   "id": "fd3185b9-e091-4375-a689-726af51609b9",
   "metadata": {},
   "outputs": [
    {
     "name": "stdout",
     "output_type": "stream",
     "text": [
      "+---------+-----+\n",
      "|name     |grade|\n",
      "+---------+-----+\n",
      "|Kris     |10   |\n",
      "|Cassandra|9    |\n",
      "+---------+-----+\n",
      "\n"
     ]
    }
   ],
   "source": [
    "highschooler_df \\\n",
    "    .join(likes_df, highschooler_df.id == likes_df.id2) \\\n",
    "    .groupBy('id', 'name', 'grade') \\\n",
    "    .agg(F.count('*').alias('count_schooler')) \\\n",
    "    .where(F.col('count_schooler') > 1) \\\n",
    "    .select('name', 'grade') \\\n",
    "    .show(truncate=False)"
   ]
  },
  {
   "cell_type": "markdown",
   "id": "7fcfebd6-3743-4f6b-984b-ab63de5903ed",
   "metadata": {},
   "source": [
    "# SQL Social-Network Query Exercises Extras"
   ]
  },
  {
   "cell_type": "markdown",
   "id": "5aca4758-d8d5-4a56-af4c-9c8e4303c07b",
   "metadata": {},
   "source": [
    "## Q1\n",
    "For every situation where student A likes student B, but student B likes a different student C, return the names and grades of A, B, and C."
   ]
  },
  {
   "cell_type": "code",
   "execution_count": 13,
   "id": "6c530d44-ea28-485d-92af-a331f94a520a",
   "metadata": {},
   "outputs": [
    {
     "name": "stdout",
     "output_type": "stream",
     "text": [
      "+-------+-----+---------+-----+-------+-----+\n",
      "|   name|grade|     name|grade|   name|grade|\n",
      "+-------+-----+---------+-----+-------+-----+\n",
      "| Andrew|   10|Cassandra|    9|Gabriel|    9|\n",
      "|Gabriel|   11|   Alexis|   11|   Kris|   10|\n",
      "+-------+-----+---------+-----+-------+-----+\n",
      "\n"
     ]
    }
   ],
   "source": [
    "highschooler_df \\\n",
    "    .alias('h1') \\\n",
    "    .join(likes_df.alias('l1'), F.col('h1.id') == F.col('l1.id1')) \\\n",
    "    .join(highschooler_df.alias('h2'), F.col('h2.id') == F.col('l1.id2')) \\\n",
    "    .join(likes_df.alias('l2'), F.col('h2.id') == F.col('l2.id1')) \\\n",
    "    .join(highschooler_df.alias('h3'), F.col('h3.id') == F.col('l2.id2')) \\\n",
    "    .where(F.col('h1.id') != F.col('l2.id2')) \\\n",
    "    .select('h1.name', 'h1.grade', 'h2.name', 'h2.grade', 'h3.name', 'h3.grade') \\\n",
    "    .show()"
   ]
  },
  {
   "cell_type": "markdown",
   "id": "5392ee13-db67-40d3-ac50-067ddc2528c4",
   "metadata": {},
   "source": [
    "## Q2\n",
    "Find those students for whom all of their friends are in different grades from themselves. Return the students' names and grades."
   ]
  },
  {
   "cell_type": "code",
   "execution_count": null,
   "id": "1a58ed4b-a0dd-4f74-b0b5-7688871c929f",
   "metadata": {},
   "outputs": [],
   "source": []
  },
  {
   "cell_type": "markdown",
   "id": "69cc3029-2267-49d2-8815-ba81f0be4079",
   "metadata": {},
   "source": [
    "## Q3\n",
    "What is the average number of friends per student? (Your result should be just one number.)"
   ]
  },
  {
   "cell_type": "code",
   "execution_count": 14,
   "id": "289b97db-f157-4d1d-af3e-8b738375b408",
   "metadata": {},
   "outputs": [
    {
     "name": "stdout",
     "output_type": "stream",
     "text": [
      "+-------------+\n",
      "|avg(count(1))|\n",
      "+-------------+\n",
      "|          2.5|\n",
      "+-------------+\n",
      "\n"
     ]
    }
   ],
   "source": [
    "friend_df \\\n",
    "    .groupBy('id1') \\\n",
    "    .agg(F.count('*')) \\\n",
    "    .groupBy() \\\n",
    "    .avg() \\\n",
    "    .show()"
   ]
  },
  {
   "cell_type": "markdown",
   "id": "51b2b030-142a-414f-bf0f-616bf972978b",
   "metadata": {},
   "source": [
    "## Q4\n",
    "Find the number of students who are either friends with Cassandra or are friends of friends of Cassandra. Do not count Cassandra, even though technically she is a friend of a friend."
   ]
  },
  {
   "cell_type": "code",
   "execution_count": null,
   "id": "73111cee-548b-4ae5-b5fb-208f1434ede0",
   "metadata": {},
   "outputs": [],
   "source": []
  },
  {
   "cell_type": "markdown",
   "id": "ae35ed21-b686-4a91-95bd-2709f9480b71",
   "metadata": {},
   "source": [
    "## Q5\n",
    "Find the name and grade of the student(s) with the greatest number of friends."
   ]
  },
  {
   "cell_type": "code",
   "execution_count": 15,
   "id": "f47ee970-4490-4893-a5f2-71cbd778d50b",
   "metadata": {},
   "outputs": [
    {
     "name": "stdout",
     "output_type": "stream",
     "text": [
      "+------+-----+-----+\n",
      "|name  |grade|count|\n",
      "+------+-----+-----+\n",
      "|Andrew|10   |4    |\n",
      "|Alexis|11   |4    |\n",
      "+------+-----+-----+\n",
      "\n"
     ]
    }
   ],
   "source": [
    "max_friends = friend_df \\\n",
    "                .groupBy('id1') \\\n",
    "                .agg(F.count('*')) \\\n",
    "                .groupBy().max('count(1)') \\\n",
    "                .first() \\\n",
    "                ['max(count(1))']\n",
    "\n",
    "highschooler_df \\\n",
    "    .join(friend_df, highschooler_df.id == friend_df.id1) \\\n",
    "    .groupBy('name', 'grade') \\\n",
    "    .count() \\\n",
    "    .where(F.col('count') == max_friends) \\\n",
    "    .show(truncate=False)"
   ]
  }
 ],
 "metadata": {
  "kernelspec": {
   "display_name": "Python 3 (ipykernel)",
   "language": "python",
   "name": "python3"
  },
  "language_info": {
   "codemirror_mode": {
    "name": "ipython",
    "version": 3
   },
   "file_extension": ".py",
   "mimetype": "text/x-python",
   "name": "python",
   "nbconvert_exporter": "python",
   "pygments_lexer": "ipython3",
   "version": "3.9.10"
  }
 },
 "nbformat": 4,
 "nbformat_minor": 5
}
