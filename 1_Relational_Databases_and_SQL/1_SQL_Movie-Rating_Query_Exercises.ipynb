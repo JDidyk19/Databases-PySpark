{
 "cells": [
  {
   "cell_type": "code",
   "execution_count": 1,
   "id": "15ac1f68-ff96-42a2-bf2e-da7a037d7af5",
   "metadata": {},
   "outputs": [],
   "source": [
    "from pyspark.sql import SparkSession\n",
    "import pyspark.sql.types as T \n",
    "import pyspark.sql.functions as F\n",
    "\n",
    "\n",
    "spark = SparkSession \\\n",
    "    .builder \\\n",
    "    .appName(\"Exercise Solutions\") \\\n",
    "    .getOrCreate()"
   ]
  },
  {
   "cell_type": "markdown",
   "id": "40ef2593-29c8-4588-8290-0590f408162d",
   "metadata": {
    "tags": []
   },
   "source": [
    "# SQL Movie-Rating Query Exercises\n",
    "\n",
    "You've started a new movie-rating website, and you've been collecting data on reviewers' ratings of various movies. \n",
    "\n",
    "There's not much data yet, but you can still try out some interesting queries. Here's the schema:\n",
    "\n",
    "Movie ( mID, title, year, director )\n",
    "English: There is a movie with ID number *mID*, a *title*, a release *year*, and a *director*.\n",
    "\n",
    "Reviewer ( rID, name )\n",
    "English: The reviewer with ID number *rID* has a certain *name*.\n",
    "\n",
    "Rating ( rID, mID, stars, ratingDate )\n",
    "English: The reviewer *rID* gave the movie *mID* a number of *stars* rating (1-5) on a certain *ratingDate.m*\n",
    "\n",
    "Your queries will run over a small data set conforming to the schema."
   ]
  },
  {
   "cell_type": "markdown",
   "id": "ad59a66b-caf9-4d65-844b-51eeef487758",
   "metadata": {},
   "source": [
    "### Movie "
   ]
  },
  {
   "cell_type": "code",
   "execution_count": 2,
   "id": "c8b656dc-0eda-48cd-9eff-3abf1d5d2e49",
   "metadata": {},
   "outputs": [
    {
     "name": "stdout",
     "output_type": "stream",
     "text": [
      "+---+-----------------------+----+----------------+\n",
      "|mid|title                  |year|director        |\n",
      "+---+-----------------------+----+----------------+\n",
      "|101|Gone with the Wind     |1939|Victor Fleming  |\n",
      "|102|Star Wars              |1977|George Lucas    |\n",
      "|103|The Sound of Music     |1965|Robert Wise     |\n",
      "|104|E.T.                   |1982|Steven Spielberg|\n",
      "|105|Titanic                |1997|James Cameron   |\n",
      "|106|Snow White             |1937|null            |\n",
      "|107|Avatar                 |2009|James Cameron   |\n",
      "|108|Raiders of the Lost Ark|1981|Steven Spielberg|\n",
      "+---+-----------------------+----+----------------+\n",
      "\n"
     ]
    }
   ],
   "source": [
    "movie_df = spark.read.csv('./data/rating/movie.csv', header=True)\n",
    "movie_df.show(truncate=False)"
   ]
  },
  {
   "cell_type": "markdown",
   "id": "d072a8a3-b97c-4e77-97e4-9addc4c7c604",
   "metadata": {},
   "source": [
    "### Reviewer"
   ]
  },
  {
   "cell_type": "code",
   "execution_count": 3,
   "id": "a6529c47-afa3-4fdb-87db-01b362038657",
   "metadata": {},
   "outputs": [
    {
     "name": "stdout",
     "output_type": "stream",
     "text": [
      "+---+----------------+\n",
      "|rid|name            |\n",
      "+---+----------------+\n",
      "|201|Sarah Martinez  |\n",
      "|202|Daniel Lewis    |\n",
      "|203|Brittany Harris |\n",
      "|204|Mike Anderson   |\n",
      "|205|Chris Jackson   |\n",
      "|206|Elizabeth Thomas|\n",
      "|207|James Cameron   |\n",
      "|208|Ashley White    |\n",
      "+---+----------------+\n",
      "\n"
     ]
    }
   ],
   "source": [
    "reviewer_df = spark.read.csv('./data/rating/reviewer.csv', header=True)\n",
    "reviewer_df.show(truncate=False)"
   ]
  },
  {
   "cell_type": "markdown",
   "id": "9dd1835f-5d08-4e73-aa5f-8d341c603d17",
   "metadata": {},
   "source": [
    "### Rating"
   ]
  },
  {
   "cell_type": "code",
   "execution_count": 4,
   "id": "9f6ab627-7feb-4387-8a0f-21d5bb999be7",
   "metadata": {},
   "outputs": [
    {
     "name": "stdout",
     "output_type": "stream",
     "text": [
      "+---+---+-----+----------+\n",
      "|rid|mid|stars|ratingdate|\n",
      "+---+---+-----+----------+\n",
      "|201|101|2    |2011-01-22|\n",
      "|201|101|4    |2011-01-27|\n",
      "|202|106|4    |null      |\n",
      "|203|103|2    |2011-01-20|\n",
      "|203|108|4    |2011-01-12|\n",
      "|203|108|2    |2011-01-30|\n",
      "|204|101|3    |2011-01-09|\n",
      "|205|103|3    |2011-01-27|\n",
      "|205|104|2    |2011-01-22|\n",
      "|205|108|4    |null      |\n",
      "|206|107|3    |2011-01-15|\n",
      "|206|106|5    |2011-01-19|\n",
      "|207|107|5    |2011-01-20|\n",
      "|208|104|3    |2011-01-02|\n",
      "+---+---+-----+----------+\n",
      "\n"
     ]
    }
   ],
   "source": [
    "rating_df = spark.read.csv('./data/rating/rating.csv', header=True)\n",
    "rating_df.show(truncate=False)"
   ]
  },
  {
   "cell_type": "markdown",
   "id": "431dcb46-554e-4273-9642-54b7ce851cf1",
   "metadata": {},
   "source": [
    "## Q1\n",
    "Find the titles of all movies directed by Steven Spielberg."
   ]
  },
  {
   "cell_type": "code",
   "execution_count": 5,
   "id": "c9371ad4-fbbf-40e0-932b-6daea6ff99d1",
   "metadata": {},
   "outputs": [
    {
     "name": "stdout",
     "output_type": "stream",
     "text": [
      "+-----------------------+\n",
      "|title                  |\n",
      "+-----------------------+\n",
      "|E.T.                   |\n",
      "|Raiders of the Lost Ark|\n",
      "+-----------------------+\n",
      "\n"
     ]
    }
   ],
   "source": [
    "movie_df \\\n",
    "    .select('title') \\\n",
    "    .where(F.col('director') == 'Steven Spielberg') \\\n",
    "    .show(truncate=False)"
   ]
  },
  {
   "cell_type": "markdown",
   "id": "1694555a-5293-4224-bcc1-dc7c1b20c984",
   "metadata": {},
   "source": [
    "## Q2\n",
    "Find all years that have a movie that received a rating of 4 or 5, and sort them in increasing order."
   ]
  },
  {
   "cell_type": "code",
   "execution_count": 6,
   "id": "164cafd9-bcc2-45cc-82f6-18bd08d80400",
   "metadata": {},
   "outputs": [
    {
     "name": "stdout",
     "output_type": "stream",
     "text": [
      "+----+\n",
      "|year|\n",
      "+----+\n",
      "|1937|\n",
      "|1939|\n",
      "|1981|\n",
      "|2009|\n",
      "+----+\n",
      "\n"
     ]
    }
   ],
   "source": [
    "movie_df \\\n",
    "    .join(rating_df, on='mid') \\\n",
    "    .select('year') \\\n",
    "    .where(F.col('stars').isin(4, 5)) \\\n",
    "    .distinct() \\\n",
    "    .orderBy(F.col('year')) \\\n",
    "    .show(truncate=False)"
   ]
  },
  {
   "cell_type": "markdown",
   "id": "b22b048b-63c4-43d2-a182-55a405249995",
   "metadata": {},
   "source": [
    "## Q3\n",
    "Find the titles of all movies that have no ratings."
   ]
  },
  {
   "cell_type": "code",
   "execution_count": 7,
   "id": "e2e9e648-4f60-48f5-8cf8-97c65ace2486",
   "metadata": {},
   "outputs": [
    {
     "name": "stdout",
     "output_type": "stream",
     "text": [
      "+-----+\n",
      "|title|\n",
      "+-----+\n",
      "+-----+\n",
      "\n"
     ]
    }
   ],
   "source": [
    "movie_df \\\n",
    "        .join(rating_df, on='mid') \\\n",
    "        .select('title') \\\n",
    "        .where(F.col('stars').isNull()) \\\n",
    "        .show(truncate=False)"
   ]
  },
  {
   "cell_type": "markdown",
   "id": "84c81917-2149-46d5-b403-72ef31b08a1a",
   "metadata": {},
   "source": [
    "## Q4\n",
    "Some reviewers didn't provide a date with their rating. Find the names of all reviewers who have ratings with a NULL value for the date."
   ]
  },
  {
   "cell_type": "code",
   "execution_count": 8,
   "id": "ace20e9b-9329-4398-99e3-d72642f17778",
   "metadata": {},
   "outputs": [
    {
     "name": "stdout",
     "output_type": "stream",
     "text": [
      "+-------------+\n",
      "|name         |\n",
      "+-------------+\n",
      "|Chris Jackson|\n",
      "|Daniel Lewis |\n",
      "+-------------+\n",
      "\n"
     ]
    }
   ],
   "source": [
    "rating_df \\\n",
    "    .join(reviewer_df, on='rid') \\\n",
    "    .select('name') \\\n",
    "    .where(F.col('ratingdate').isNull()) \\\n",
    "    .distinct() \\\n",
    "    .show(truncate=False)"
   ]
  },
  {
   "cell_type": "markdown",
   "id": "15cd2104-63b8-4a05-8007-643cd5ee7384",
   "metadata": {},
   "source": [
    "## Q5\n",
    "Write a query to return the ratings data in a more readable format: reviewer name, movie title, stars, and ratingDate. Also, sort the data, first by reviewer name, then by movie title, and lastly by number of stars."
   ]
  },
  {
   "cell_type": "code",
   "execution_count": 9,
   "id": "5228242e-7a9a-4310-afdf-73e7eb299f9d",
   "metadata": {},
   "outputs": [
    {
     "name": "stdout",
     "output_type": "stream",
     "text": [
      "+----------------+-----------------------+-----+----------+\n",
      "|name            |title                  |stars|ratingdate|\n",
      "+----------------+-----------------------+-----+----------+\n",
      "|Ashley White    |E.T.                   |3    |2011-01-02|\n",
      "|Brittany Harris |Raiders of the Lost Ark|2    |2011-01-30|\n",
      "|Brittany Harris |Raiders of the Lost Ark|4    |2011-01-12|\n",
      "|Brittany Harris |The Sound of Music     |2    |2011-01-20|\n",
      "|Chris Jackson   |E.T.                   |2    |2011-01-22|\n",
      "|Chris Jackson   |Raiders of the Lost Ark|4    |null      |\n",
      "|Chris Jackson   |The Sound of Music     |3    |2011-01-27|\n",
      "|Daniel Lewis    |Snow White             |4    |null      |\n",
      "|Elizabeth Thomas|Avatar                 |3    |2011-01-15|\n",
      "|Elizabeth Thomas|Snow White             |5    |2011-01-19|\n",
      "|James Cameron   |Avatar                 |5    |2011-01-20|\n",
      "|Mike Anderson   |Gone with the Wind     |3    |2011-01-09|\n",
      "|Sarah Martinez  |Gone with the Wind     |2    |2011-01-22|\n",
      "|Sarah Martinez  |Gone with the Wind     |4    |2011-01-27|\n",
      "+----------------+-----------------------+-----+----------+\n",
      "\n"
     ]
    }
   ],
   "source": [
    "movie_df \\\n",
    "    .join(rating_df, on='mid') \\\n",
    "    .join(reviewer_df, on='rid') \\\n",
    "    .select('name', 'title', 'stars', 'ratingdate') \\\n",
    "    .orderBy(['name', 'title', 'stars']) \\\n",
    "    .show(truncate=False)"
   ]
  },
  {
   "cell_type": "markdown",
   "id": "cafebf7d-2c3b-428e-865a-accd87435c52",
   "metadata": {},
   "source": [
    "## Q6\n",
    "For all cases where the same reviewer rated the same movie twice and gave it a higher rating the second time, return the reviewer's name and the title of the movie."
   ]
  },
  {
   "cell_type": "code",
   "execution_count": 10,
   "id": "8643601f-fd7a-414d-8982-8ffab9f4b067",
   "metadata": {},
   "outputs": [
    {
     "name": "stdout",
     "output_type": "stream",
     "text": [
      "+--------------+------------------+\n",
      "|name          |title             |\n",
      "+--------------+------------------+\n",
      "|Sarah Martinez|Gone with the Wind|\n",
      "+--------------+------------------+\n",
      "\n"
     ]
    }
   ],
   "source": [
    "r = rating_df.alias('r')\n",
    "r1 = rating_df.alias('r1')\n",
    "r \\\n",
    "    .join(r1, on=['rid', 'mid']) \\\n",
    "    .join(reviewer_df, on='rid') \\\n",
    "    .join(movie_df, on='mid') \\\n",
    "    .where(\n",
    "        (F.col('r.ratingdate') < F.col('r1.ratingdate')) &\n",
    "        (F.col('r.stars') < F.col('r1.stars'))\n",
    "        ) \\\n",
    "    .select('name', 'title') \\\n",
    "    .show(truncate=False)"
   ]
  },
  {
   "cell_type": "markdown",
   "id": "5df49f1a-7d46-4066-aa1e-49fe120198bf",
   "metadata": {},
   "source": [
    "## Q7\n",
    "For each movie that has at least one rating, find the highest number of stars that movie received. Return the movie title and number of stars. Sort by movie title."
   ]
  },
  {
   "cell_type": "code",
   "execution_count": 11,
   "id": "6b4f69e4-7195-4e79-939f-1d24ecdb1192",
   "metadata": {},
   "outputs": [
    {
     "name": "stdout",
     "output_type": "stream",
     "text": [
      "+-----------------------+----------+\n",
      "|title                  |max(stars)|\n",
      "+-----------------------+----------+\n",
      "|Avatar                 |5         |\n",
      "|E.T.                   |3         |\n",
      "|Gone with the Wind     |4         |\n",
      "|Raiders of the Lost Ark|4         |\n",
      "|Snow White             |5         |\n",
      "|The Sound of Music     |3         |\n",
      "+-----------------------+----------+\n",
      "\n"
     ]
    }
   ],
   "source": [
    "movie_df \\\n",
    "    .join(rating_df, on='mid') \\\n",
    "    .groupBy('title') \\\n",
    "    .agg(F.max('stars')) \\\n",
    "    .show(truncate=False)"
   ]
  },
  {
   "cell_type": "markdown",
   "id": "35b7269a-15c2-4724-b6e0-b4c41b76a39d",
   "metadata": {},
   "source": [
    "  ## Q8\n",
    "For each movie, return the title and the 'rating spread', that is, the difference between highest and lowest ratings given to that movie. Sort by rating spread from highest to lowest, then by movie title.\n",
    "\n"
   ]
  },
  {
   "cell_type": "code",
   "execution_count": 12,
   "id": "d1302b98-9e91-4c5b-b0a9-3ec202483fec",
   "metadata": {},
   "outputs": [
    {
     "name": "stdout",
     "output_type": "stream",
     "text": [
      "+-----------------------+---------------------+\n",
      "|title                  |(max_star - min_star)|\n",
      "+-----------------------+---------------------+\n",
      "|Avatar                 |2.0                  |\n",
      "|E.T.                   |1.0                  |\n",
      "|Gone with the Wind     |2.0                  |\n",
      "|Raiders of the Lost Ark|2.0                  |\n",
      "|Snow White             |1.0                  |\n",
      "|The Sound of Music     |1.0                  |\n",
      "+-----------------------+---------------------+\n",
      "\n"
     ]
    }
   ],
   "source": [
    "movie_df \\\n",
    "    .join(rating_df, on='mid') \\\n",
    "    .groupBy('title') \\\n",
    "    .agg(F.max('stars').alias('max_star'), F.min('stars').alias('min_star')) \\\n",
    "    .select('title', F.col('max_star') - F.col('min_star')) \\\n",
    "    .show(truncate=False)"
   ]
  },
  {
   "cell_type": "markdown",
   "id": "6b31a7fa-69bb-4d72-93d9-bd68ffeb1f3a",
   "metadata": {},
   "source": [
    "## Q9\n",
    "Find the difference between the average rating of movies released before 1980 and the average rating of movies released after 1980. (Make sure to calculate the average rating for each movie, then the average of those averages for movies before 1980 and movies after. Don't just calculate the overall average rating before and after 1980.)"
   ]
  },
  {
   "cell_type": "code",
   "execution_count": 13,
   "id": "77ceff1e-060d-48c1-9cfc-34bba253cbf5",
   "metadata": {
    "tags": []
   },
   "outputs": [
    {
     "name": "stdout",
     "output_type": "stream",
     "text": [
      "+---------------------------------+\n",
      "|(avg(less_1980) - avg(more_1980))|\n",
      "+---------------------------------+\n",
      "|0.05555555555555536              |\n",
      "+---------------------------------+\n",
      "\n"
     ]
    }
   ],
   "source": [
    "movie_df \\\n",
    "    .join(rating_df, on='mid') \\\n",
    "    .groupBy('title', 'year') \\\n",
    "    .agg(F.avg('stars').alias('av')) \\\n",
    "    .withColumn('more_1980', F.when(F.col('year') > 1980, F.col('av')).otherwise(None)) \\\n",
    "    .withColumn('less_1980', F.when(F.col('year') < 1980, F.col('av')).otherwise(None)) \\\n",
    "    .drop('av') \\\n",
    "    .select(F.avg(F.col('less_1980')) - F.avg(F.col('more_1980'))) \\\n",
    "    .show(truncate=False)"
   ]
  },
  {
   "cell_type": "markdown",
   "id": "b2e29c4b-6051-43b9-b41e-ebd8cac8a796",
   "metadata": {},
   "source": [
    "# SQL Movie-Rating Query Exercises Extras"
   ]
  },
  {
   "cell_type": "markdown",
   "id": "f139a0e7-e5cb-4087-9fcf-381c80940d16",
   "metadata": {
    "tags": []
   },
   "source": [
    "## Q1\n",
    "Find the names of all reviewers who rated Gone with the Wind."
   ]
  },
  {
   "cell_type": "code",
   "execution_count": 14,
   "id": "63547ed0-6a04-4daa-8c01-13d858dae5da",
   "metadata": {},
   "outputs": [
    {
     "name": "stdout",
     "output_type": "stream",
     "text": [
      "+--------------+\n",
      "|name          |\n",
      "+--------------+\n",
      "|Mike Anderson |\n",
      "|Sarah Martinez|\n",
      "+--------------+\n",
      "\n"
     ]
    }
   ],
   "source": [
    "movie_df \\\n",
    "    .join(rating_df, on='mid') \\\n",
    "    .join(reviewer_df, on='rid') \\\n",
    "    .where(F.col('title') == 'Gone with the Wind') \\\n",
    "    .select('name') \\\n",
    "    .distinct() \\\n",
    "    .show(truncate=False)"
   ]
  },
  {
   "cell_type": "markdown",
   "id": "45e16b6c-f50c-4ef9-b6cd-92632aa12a90",
   "metadata": {},
   "source": [
    "## Q2\n",
    "For any rating where the reviewer is the same as the director of the movie, return the reviewer name, movie title, and number of stars."
   ]
  },
  {
   "cell_type": "code",
   "execution_count": 15,
   "id": "8a98c192-09a8-4ac3-9639-6bf191689430",
   "metadata": {},
   "outputs": [
    {
     "name": "stdout",
     "output_type": "stream",
     "text": [
      "+-------------+------+-----+\n",
      "|name         |title |stars|\n",
      "+-------------+------+-----+\n",
      "|James Cameron|Avatar|5    |\n",
      "+-------------+------+-----+\n",
      "\n"
     ]
    }
   ],
   "source": [
    "movie_df \\\n",
    "    .join(rating_df, on='mid') \\\n",
    "    .join(reviewer_df, on='rid') \\\n",
    "    .where(F.col('director') == F.col('name')) \\\n",
    "    .select('name', 'title', 'stars') \\\n",
    "    .distinct() \\\n",
    "    .show(truncate=False)"
   ]
  },
  {
   "cell_type": "markdown",
   "id": "68c7b4ec-9923-47a5-b784-64d9a5bef8e8",
   "metadata": {},
   "source": [
    "## Q3\n",
    "Return all reviewer names and movie names together in a single list, alphabetized. (Sorting by the first name of the reviewer and first word in the title is fine; no need for special processing on last names or removing \"The\".)"
   ]
  },
  {
   "cell_type": "code",
   "execution_count": 16,
   "id": "e1656341-0f11-4af2-8c8b-61a68c76c38f",
   "metadata": {},
   "outputs": [
    {
     "name": "stdout",
     "output_type": "stream",
     "text": [
      "+-----------------------+\n",
      "|name                   |\n",
      "+-----------------------+\n",
      "|Ashley White           |\n",
      "|Avatar                 |\n",
      "|Brittany Harris        |\n",
      "|Chris Jackson          |\n",
      "|Daniel Lewis           |\n",
      "|E.T.                   |\n",
      "|Elizabeth Thomas       |\n",
      "|Gone with the Wind     |\n",
      "|James Cameron          |\n",
      "|Mike Anderson          |\n",
      "|Raiders of the Lost Ark|\n",
      "|Sarah Martinez         |\n",
      "|Snow White             |\n",
      "|Star Wars              |\n",
      "|The Sound of Music     |\n",
      "|Titanic                |\n",
      "+-----------------------+\n",
      "\n"
     ]
    }
   ],
   "source": [
    "movie_titles = movie_df.select('title')\n",
    "reviewer_df \\\n",
    "    .select('name') \\\n",
    "    .union(movie_titles) \\\n",
    "    .orderBy('name') \\\n",
    "    .show(truncate=False)"
   ]
  },
  {
   "cell_type": "markdown",
   "id": "e703317d-4fe1-413a-ab1d-71bc4343dd39",
   "metadata": {},
   "source": [
    "## Q4\n",
    "Find the titles of all movies not reviewed by Chris Jackson."
   ]
  },
  {
   "cell_type": "code",
   "execution_count": 17,
   "id": "23356132-ef2a-4103-97c6-c35594312d44",
   "metadata": {},
   "outputs": [
    {
     "name": "stdout",
     "output_type": "stream",
     "text": [
      "+-----------------------+\n",
      "|title                  |\n",
      "+-----------------------+\n",
      "|E.T.                   |\n",
      "|Avatar                 |\n",
      "|Gone with the Wind     |\n",
      "|Raiders of the Lost Ark|\n",
      "|The Sound of Music     |\n",
      "|Snow White             |\n",
      "+-----------------------+\n",
      "\n"
     ]
    }
   ],
   "source": [
    "movie_df \\\n",
    "    .join(rating_df, on='mid') \\\n",
    "    .join(reviewer_df, on='rid') \\\n",
    "    .where(F.col('name') != 'Chris Jackson') \\\n",
    "    .select('title') \\\n",
    "    .distinct() \\\n",
    "    .show(truncate=False)"
   ]
  },
  {
   "cell_type": "markdown",
   "id": "55c5762a-bdac-42cb-a085-eb34051d40cc",
   "metadata": {},
   "source": [
    "## Q5\n",
    "For all pairs of reviewers such that both reviewers gave a rating to the same movie, return the names of both reviewers. Eliminate duplicates, don't pair reviewers with themselves, and include each pair only once. For each pair, return the names in the pair in alphabetical order."
   ]
  },
  {
   "cell_type": "code",
   "execution_count": 18,
   "id": "6369bd11-c33b-4054-8251-bff3315843e0",
   "metadata": {},
   "outputs": [
    {
     "name": "stdout",
     "output_type": "stream",
     "text": [
      "+----------------+----------------+\n",
      "|name            |name            |\n",
      "+----------------+----------------+\n",
      "|Ashley White    |Chris Jackson   |\n",
      "|Mike Anderson   |Sarah Martinez  |\n",
      "|Brittany Harris |Chris Jackson   |\n",
      "|Daniel Lewis    |Elizabeth Thomas|\n",
      "|Elizabeth Thomas|James Cameron   |\n",
      "+----------------+----------------+\n",
      "\n"
     ]
    }
   ],
   "source": [
    "table_1 = reviewer_df \\\n",
    "                .join(rating_df, on='rid') \\\n",
    "                .alias('table_1')\n",
    "\n",
    "reviewer_df.alias('table_2') \\\n",
    "    .join(rating_df, on='rid') \\\n",
    "    .join(table_1, on='mid') \\\n",
    "    .where(F.col('table_2.name') < F.col('table_1.name')) \\\n",
    "    .select('table_2.name', 'table_1.name') \\\n",
    "    .distinct() \\\n",
    "    .show(truncate=False)"
   ]
  },
  {
   "cell_type": "markdown",
   "id": "308df479-4769-4f9f-90a2-71963f5418cc",
   "metadata": {},
   "source": [
    "## Q6\n",
    "For each rating that is the lowest (fewest stars) currently in the database, return the reviewer name, movie title, and number of stars."
   ]
  },
  {
   "cell_type": "code",
   "execution_count": 19,
   "id": "630c946b-aa36-4c9b-b068-9e9c51591655",
   "metadata": {},
   "outputs": [
    {
     "name": "stdout",
     "output_type": "stream",
     "text": [
      "+---------------+-----------------------+-----+\n",
      "|name           |title                  |stars|\n",
      "+---------------+-----------------------+-----+\n",
      "|Sarah Martinez |Gone with the Wind     |2    |\n",
      "|Brittany Harris|The Sound of Music     |2    |\n",
      "|Brittany Harris|Raiders of the Lost Ark|2    |\n",
      "|Chris Jackson  |E.T.                   |2    |\n",
      "+---------------+-----------------------+-----+\n",
      "\n"
     ]
    }
   ],
   "source": [
    "min_star = rating_df.select(F.min('stars').alias('min_star'))\n",
    "star = min_star.first()['min_star']\n",
    "\n",
    "movie_df \\\n",
    "    .join(rating_df, on='mid') \\\n",
    "    .join(reviewer_df, on='rid') \\\n",
    "    .where(F.col('stars') == star) \\\n",
    "    .select('name', 'title', 'stars') \\\n",
    "    .show(truncate=False)"
   ]
  },
  {
   "cell_type": "markdown",
   "id": "8121f4be-e971-4d93-9fac-b426956e247c",
   "metadata": {},
   "source": [
    "## Q7\n",
    "List movie titles and average ratings, from highest-rated to lowest-rated. If two or more movies have the same average rating, list them in alphabetical order."
   ]
  },
  {
   "cell_type": "code",
   "execution_count": 20,
   "id": "f753f3a9-efb0-4961-9022-bbd6321739f3",
   "metadata": {},
   "outputs": [
    {
     "name": "stdout",
     "output_type": "stream",
     "text": [
      "+-----------------------+------------------+\n",
      "|title                  |avg(stars)        |\n",
      "+-----------------------+------------------+\n",
      "|Snow White             |4.5               |\n",
      "|Avatar                 |4.0               |\n",
      "|Raiders of the Lost Ark|3.3333333333333335|\n",
      "|Gone with the Wind     |3.0               |\n",
      "|E.T.                   |2.5               |\n",
      "|The Sound of Music     |2.5               |\n",
      "+-----------------------+------------------+\n",
      "\n"
     ]
    }
   ],
   "source": [
    "movie_df \\\n",
    "    .join(rating_df, on='mid') \\\n",
    "    .groupBy('mid', 'title').agg(F.avg(F.col('stars'))) \\\n",
    "    .select('title', 'avg(stars)') \\\n",
    "    .orderBy(F.col('avg(stars)').desc(), 'title') \\\n",
    "    .show(truncate=False)"
   ]
  },
  {
   "cell_type": "markdown",
   "id": "84c39a06-ebf0-4454-bc18-40a3262875e2",
   "metadata": {},
   "source": [
    "## Q8\n",
    "Find the names of all reviewers who have contributed three or more ratings. (As an extra challenge, try writing the query without HAVING or without COUNT.)"
   ]
  },
  {
   "cell_type": "code",
   "execution_count": 21,
   "id": "e062d81c-075b-4370-861b-5675e1bd719f",
   "metadata": {},
   "outputs": [
    {
     "name": "stdout",
     "output_type": "stream",
     "text": [
      "+---------------+\n",
      "|name           |\n",
      "+---------------+\n",
      "|Brittany Harris|\n",
      "|Chris Jackson  |\n",
      "+---------------+\n",
      "\n"
     ]
    }
   ],
   "source": [
    "rating_df \\\n",
    "    .join(reviewer_df, on='rid') \\\n",
    "    .groupBy('name') \\\n",
    "    .agg(F.count('*').alias('count_row')) \\\n",
    "    .where(F.col('count_row') >= 3) \\\n",
    "    .select('name') \\\n",
    "    .show(truncate=False)"
   ]
  },
  {
   "cell_type": "markdown",
   "id": "235e3269-469b-428d-9a48-18d823f984f3",
   "metadata": {},
   "source": [
    "## Q9\n",
    "Some directors directed more than one movie. For all such directors, return the titles of all movies directed by them, along with the director name. Sort by director name, then movie title. (As an extra challenge, try writing the query both with and without COUNT.)"
   ]
  },
  {
   "cell_type": "code",
   "execution_count": 22,
   "id": "10a13203-04ab-4f32-bfcd-35b76809b679",
   "metadata": {},
   "outputs": [
    {
     "name": "stdout",
     "output_type": "stream",
     "text": [
      "+--------------------+----------------+\n",
      "|               title|        director|\n",
      "+--------------------+----------------+\n",
      "|              Avatar|   James Cameron|\n",
      "|             Titanic|   James Cameron|\n",
      "|                E.T.|Steven Spielberg|\n",
      "|Raiders of the Lo...|Steven Spielberg|\n",
      "+--------------------+----------------+\n",
      "\n"
     ]
    }
   ],
   "source": [
    "directors = movie_df \\\n",
    "                .groupBy('director') \\\n",
    "                .agg(F.count('*').alias('count_movie')) \\\n",
    "                .where(F.col('count_movie') > 1) \\\n",
    "                .join(movie_df, on='director') \\\n",
    "                .select('title', 'director') \\\n",
    "                .orderBy('director', 'title') \\\n",
    "                .show()\n"
   ]
  },
  {
   "cell_type": "markdown",
   "id": "5631fe2a-b332-47fc-a5c0-6749e118a64d",
   "metadata": {},
   "source": [
    "## Q10\n",
    "Find the movie(s) with the highest average rating. Return the movie title(s) and average rating. (Hint: This query is more difficult to write in SQLite than other systems; you might think of it as finding the highest average rating and then choosing the movie(s) with that average rating.)"
   ]
  },
  {
   "cell_type": "code",
   "execution_count": 23,
   "id": "78fbc0de-0b7b-40a9-ab78-b3595f87ffc0",
   "metadata": {},
   "outputs": [
    {
     "name": "stdout",
     "output_type": "stream",
     "text": [
      "+----------+----------+\n",
      "|     title|avg(stars)|\n",
      "+----------+----------+\n",
      "|Snow White|       4.5|\n",
      "+----------+----------+\n",
      "\n"
     ]
    }
   ],
   "source": [
    "movie_df \\\n",
    "    .join(rating_df, on=['mid']) \\\n",
    "    .groupby('mid', 'title') \\\n",
    "    .agg(F.avg('stars')) \\\n",
    "    .orderBy(F.col('avg(stars)').desc()) \\\n",
    "    .limit(1) \\\n",
    "    .join(movie_df, on=['mid', 'title']) \\\n",
    "    .select('title', 'avg(stars)') \\\n",
    "    .show()"
   ]
  },
  {
   "cell_type": "markdown",
   "id": "fac6a829-6a9d-48f1-82a6-c04c6d92f1f8",
   "metadata": {},
   "source": [
    "## Q11\n",
    "Find the movie(s) with the lowest average rating. Return the movie title(s) and average rating. (Hint: This query may be more difficult to write in SQLite than other systems; you might think of it as finding the lowest average rating and then choosing the movie(s) with that average rating.)"
   ]
  },
  {
   "cell_type": "code",
   "execution_count": 24,
   "id": "63f65212-2ff2-4163-9191-063a96c9242a",
   "metadata": {},
   "outputs": [
    {
     "name": "stdout",
     "output_type": "stream",
     "text": [
      "+-----+----------+\n",
      "|title|avg(stars)|\n",
      "+-----+----------+\n",
      "| E.T.|       2.5|\n",
      "+-----+----------+\n",
      "\n"
     ]
    }
   ],
   "source": [
    "movie_df \\\n",
    "    .join(rating_df, on=['mid']) \\\n",
    "    .groupby('mid', 'title') \\\n",
    "    .agg(F.avg('stars')) \\\n",
    "    .orderBy(F.col('avg(stars)')) \\\n",
    "    .limit(1) \\\n",
    "    .join(movie_df, on=['mid', 'title']) \\\n",
    "    .select('title', 'avg(stars)') \\\n",
    "    .show()"
   ]
  },
  {
   "cell_type": "markdown",
   "id": "e85f9716-3f2a-468e-9cdd-b0079fad685b",
   "metadata": {},
   "source": [
    "## Q12\n",
    "For each director, return the director's name together with the title(s) of the movie(s) they directed that received the highest rating among all of their movies, and the value of that rating. Ignore movies whose director is NULL."
   ]
  },
  {
   "cell_type": "code",
   "execution_count": 25,
   "id": "6d7b6470-908e-4aa0-b3ff-38d284494632",
   "metadata": {},
   "outputs": [
    {
     "name": "stdout",
     "output_type": "stream",
     "text": [
      "+----------------+--------------------+-----+\n",
      "|        director|               title|stars|\n",
      "+----------------+--------------------+-----+\n",
      "|   James Cameron|              Avatar|    5|\n",
      "|     Robert Wise|  The Sound of Music|    3|\n",
      "|Steven Spielberg|Raiders of the Lo...|    4|\n",
      "|Steven Spielberg|Raiders of the Lo...|    4|\n",
      "|  Victor Fleming|  Gone with the Wind|    4|\n",
      "+----------------+--------------------+-----+\n",
      "\n"
     ]
    }
   ],
   "source": [
    "movie_df \\\n",
    "    .join(rating_df, on='mid') \\\n",
    "    .groupBy('director') \\\n",
    "    .agg(F.max('stars')) \\\n",
    "    .where(F.col('director').isNotNull()) \\\n",
    "    .join(movie_df, on='director') \\\n",
    "    .join(rating_df, on='mid') \\\n",
    "    .where(F.col('max(stars)') == F.col('stars')) \\\n",
    "    .select('director', 'title', 'stars') \\\n",
    "    .show()"
   ]
  }
 ],
 "metadata": {
  "kernelspec": {
   "display_name": "Python 3 (ipykernel)",
   "language": "python",
   "name": "python3"
  },
  "language_info": {
   "codemirror_mode": {
    "name": "ipython",
    "version": 3
   },
   "file_extension": ".py",
   "mimetype": "text/x-python",
   "name": "python",
   "nbconvert_exporter": "python",
   "pygments_lexer": "ipython3",
   "version": "3.9.10"
  }
 },
 "nbformat": 4,
 "nbformat_minor": 5
}
